{
 "cells": [
  {
   "cell_type": "code",
   "execution_count": 3,
   "id": "458acb08",
   "metadata": {},
   "outputs": [],
   "source": [
    "import numpy as np\n",
    "import pandas as pd\n",
    "import torch\n",
    "from tqdm import tqdm\n",
    "dataset_param = {'CESM2-omip1':{'num_years': 62, 'start_year': 1948},'CESM2-omip2':{'num_years': 61, 'start_year': 1958},'GFDL_ESM4':{'num_years': 95, 'start_year': 1920}}"
   ]
  },
  {
   "cell_type": "code",
   "execution_count": null,
   "id": "f95b78c9",
   "metadata": {},
   "outputs": [
    {
     "name": "stderr",
     "output_type": "stream",
     "text": [
      "  0%|          | 0/62 [00:00<?, ?it/s]/home/zhaoze/anaconda3/envs/do/lib/python3.9/site-packages/tqdm/auto.py:21: TqdmWarning: IProgress not found. Please update jupyter and ipywidgets. See https://ipywidgets.readthedocs.io/en/stable/user_install.html\n",
      "  from .autonotebook import tqdm as notebook_tqdm\n",
      "100%|██████████| 62/62 [00:13<00:00,  4.73it/s]\n"
     ]
    }
   ],
   "source": [
    "\n",
    "## select the dataset\n",
    "# dataset = 'CESM2-omip1'\n",
    "# dataset = 'CESM2-omip2'\n",
    "# dataset = 'GFDL_ESM4'\n",
    "dataset = 'CESM2-omip1'\n",
    "num_years = dataset_param[dataset]['num_years']\n",
    "start_year = dataset_param[dataset]['start_year']\n",
    "year_list = [num for num in range(start_year, start_year + num_years)]\n",
    "\n",
    "## find the sampled data place\n",
    "pwd = f'data/{dataset}/graph/'\n",
    "all_label = []\n",
    "count = 0\n",
    "for year in tqdm(year_list):\n",
    "    file_path = pwd + str(year) + '.pt'\n",
    "    data = torch.load(file_path)\n",
    "    xyz = data.x_geo[:,:3]\n",
    "    latitude = torch.arcsin(xyz[:,-1])\n",
    "    latitude = torch.rad2deg(latitude)\n",
    "    longitude = torch.arctan2(xyz[:,1],xyz[:,0])\n",
    "    longitude = torch.rad2deg(longitude)\n",
    "    label = data.y\n",
    "    years = data.x_geo[:,4] * num_years + start_year \n",
    "    geo_information = torch.stack((latitude, longitude, years), dim=1)  # (42491, 4)\n",
    "    if count == 0:\n",
    "        all_geoinformation = geo_information.cpu().numpy()\n",
    "        all_label = label.cpu().numpy()\n",
    "    else:\n",
    "        all_geoinformation = np.concatenate([all_geoinformation, geo_information.cpu().numpy()])\n",
    "        all_label = np.concatenate([all_label, label.cpu().numpy()])\n",
    "    count += 1\n",
    "depths = np.arange(1, 34)\n",
    "depths = np.tile(np.arange(1, 34), len(all_geoinformation))\n",
    "all_geoinformation =  np.repeat(all_geoinformation, 33, axis = 0)\n",
    "depths_column = pd.Series(depths, name='depth')\n",
    "oxygen_column = pd.Series(all_label.flatten(), name='oxygen')\n",
    "df = pd.DataFrame(all_geoinformation, columns=['latitude', 'longitude', 'year'])\n",
    "df['depth'] = depths_column\n",
    "df['oxygen'] = oxygen_column\n",
    "df['latitude'] = df['latitude'].round(1)\n",
    "df['longitude'] = df['longitude'].round(1)\n",
    "df['year'] = df['year'].round(0)\n",
    "df['depth'] = df['depth'].round(2)\n",
    "\n",
    "all_df = pd.read_csv(f'infer_result/all_df_empty_{dataset}.csv')\n",
    "sampled_data = pd.merge(all_df, df, on=['year', 'depth', 'latitude', 'longitude'], how='left')\n",
    "sampled_data = sampled_data['oxygen'].values\n",
    "sampled_data = sampled_data.reshape((num_years,33,180,360))\n",
    "sampled_data = torch.tensor(sampled_data)"
   ]
  },
  {
   "cell_type": "code",
   "execution_count": null,
   "id": "06fe827a",
   "metadata": {},
   "outputs": [],
   "source": [
    "\n",
    "predict_result_path = '/home/zhaoze/oxygen_gnn/do_profile/Oceanverse/infer_result/inference_by_CESM2-omip1_random_MLP_model_1.npy'  ## change the path\n",
    "ground_truth_path = f'data/{dataset}/ground_truth/ground_truth.pt'\n",
    "predict_result = np.load(predict_result_path)\n",
    "ground_truth = np.load(ground_truth_path)\n",
    "ground_truth = torch.from_numpy(ground_truth)\n",
    "predict_result = torch.from_numpy(predict_result)\n",
    "ground_truth = torch.concatenate((ground_truth[:, :, :, 180:], ground_truth[:, :, :, :180]), dim=3)\n"
   ]
  },
  {
   "cell_type": "code",
   "execution_count": 8,
   "id": "529f3217",
   "metadata": {},
   "outputs": [
    {
     "name": "stdout",
     "output_type": "stream",
     "text": [
      "MAE: 0.06316649270201627\n",
      "MSE: 0.006535294994396422\n",
      "RMSE: 0.08084117140663179\n",
      "R2: 0.22696399334128536\n",
      "MAPE: 1.206215771634637\n"
     ]
    }
   ],
   "source": [
    "## select the valid data\n",
    "select_indices = torch.isnan(sampled_data) & (~torch.isnan(predict_result)) & (~torch.isnan(ground_truth))\n",
    "predict_result_valid = predict_result[select_indices]\n",
    "ground_truth_valid = ground_truth[select_indices]\n",
    "delta = predict_result_valid - ground_truth_valid\n",
    "mae = torch.mean(torch.abs(delta))\n",
    "mse = torch.mean(delta ** 2)\n",
    "rmse = torch.sqrt(mse)\n",
    "r2 = 1 - (torch.sum(delta ** 2) / torch.sum((ground_truth_valid - torch.mean(ground_truth_valid)) ** 2))\n",
    "mape_threshold = 5/1000\n",
    "mape_indices = ground_truth_valid > mape_threshold\n",
    "mape = torch.mean(torch.abs(delta[mape_indices]) / ground_truth_valid[mape_indices])\n",
    "print('MAE:', mae.item())\n",
    "print('MSE:', mse.item())\n",
    "print('RMSE:', rmse.item())\n",
    "print('R2:', r2.item())\n",
    "print('MAPE:', mape.item())"
   ]
  }
 ],
 "metadata": {
  "kernelspec": {
   "display_name": "do",
   "language": "python",
   "name": "python3"
  },
  "language_info": {
   "codemirror_mode": {
    "name": "ipython",
    "version": 3
   },
   "file_extension": ".py",
   "mimetype": "text/x-python",
   "name": "python",
   "nbconvert_exporter": "python",
   "pygments_lexer": "ipython3",
   "version": "3.9.18"
  }
 },
 "nbformat": 4,
 "nbformat_minor": 5
}
